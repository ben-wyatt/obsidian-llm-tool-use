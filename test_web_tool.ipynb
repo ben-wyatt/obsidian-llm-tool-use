{
 "cells": [
  {
   "cell_type": "code",
   "execution_count": null,
   "metadata": {},
   "outputs": [],
   "source": [
    "from web_to_note import extract_main_content, generate_single_note_from_urls\n",
    "\n",
    "# Test extract_main_content function\n",
    "test_url = \"https://en.wikipedia.org/wiki/Cursor_(code_editor)\"\n",
    "print(\"Testing extract_main_content...\")\n",
    "content = extract_main_content(test_url)\n",
    "if content:\n",
    "    print(\"Content extracted successfully:\")\n",
    "    print(content[:500])  # Print the first 500 characters for brevity\n",
    "else:\n",
    "    print(\"Failed to extract content.\")\n"
   ]
  },
  {
   "cell_type": "code",
   "execution_count": null,
   "metadata": {},
   "outputs": [],
   "source": [
    "# Test generate_single_note_from_urls function\n",
    "test_urls = [\n",
    "    test_url\n",
    "]\n",
    "test_note_name = \"Cursor CTO Interview\"\n",
    "generate_single_note_from_urls(test_urls, test_note_name, verbose=True)"
   ]
  },
  {
   "cell_type": "code",
   "execution_count": null,
   "metadata": {},
   "outputs": [],
   "source": [
    "urls = [\n",
    "    'https://en.wikipedia.org/wiki/Cursor_(code_editor)',\n",
    "    'https://www.youtube.com/watch?v=4jDQi9P9UIw'\n",
    "]"
   ]
  },
  {
   "cell_type": "code",
   "execution_count": null,
   "metadata": {},
   "outputs": [],
   "source": [
    "# test the youtube transcription tool\n",
    "\n",
    "from youtube_transcript_api import YouTubeTranscriptApi\n",
    "from text_to_note import obsidify_text\n",
    "\n",
    "youtube_url = \"https://www.youtube.com/watch?v=4jDQi9P9UIw\"\n",
    "\n",
    "yt_id = youtube_url.split(\"v=\")[1].split(\"&\")[0]\n",
    "transcript = YouTubeTranscriptApi.get_transcript(yt_id)\n",
    "\n",
    "transcript_text = \" \".join([t[\"text\"] for t in transcript])\n",
    "obsidify_text(transcript_text, \"Cursor CTO Interview\", ignore_token_limit=True)"
   ]
  },
  {
   "cell_type": "code",
   "execution_count": null,
   "metadata": {},
   "outputs": [],
   "source": [
    "# test the youtube transcription tool\n",
    "\n",
    "from youtube_transcript_api import YouTubeTranscriptApi\n",
    "from text_to_note import obsidify_text\n",
    "from web_to_note import extract_main_content\n",
    "\n",
    "url = 'https://www.youtube.com/watch?v=LCEmiRjPEtQ'\n",
    "\n",
    "generate_single_note_from_urls([url], \"Andrej Karpathy Software Is Changing (Again)\", insert_links=True, verbose=True)"
   ]
  },
  {
   "cell_type": "code",
   "execution_count": null,
   "metadata": {},
   "outputs": [],
   "source": [
    "#test the note insertion\n",
    "from text_to_note import insert_links_to_existing_notes\n",
    "from tools.md_files import get_notes_list\n",
    "\n",
    "note_list = get_notes_list()\n",
    "\n",
    "\n",
    "with open('sample_note.md', 'r') as f:\n",
    "    sample_note_text = f.read()\n",
    "\n",
    "\n",
    "print('length of sample note text: ', len(sample_note_text))\n",
    "print(sample_note_text[:1000])"
   ]
  },
  {
   "cell_type": "code",
   "execution_count": null,
   "metadata": {},
   "outputs": [],
   "source": [
    "#long note list to test O() complexity\n",
    "import random\n",
    "import string\n",
    "\n",
    "long_note_list = [\n",
    "    ''.join(random.choices(string.ascii_letters + string.digits, k=10)) \n",
    "    for _ in range(100000)\n",
    "]\n",
    "long_note_list[:10]"
   ]
  },
  {
   "cell_type": "code",
   "execution_count": null,
   "metadata": {},
   "outputs": [],
   "source": [
    "import time\n",
    "\n",
    "# Timing the function for note_list\n",
    "start_time = time.time()\n",
    "updated_sample_note = insert_links_to_existing_notes(sample_note_text, note_list)\n",
    "end_time = time.time()\n",
    "print(f\"Time taken for note_list: {end_time - start_time:.6f} seconds\")\n",
    "\n",
    "# Timing the function for long_note_list\n",
    "start_time = time.time()\n",
    "updated_sample_note_long = insert_links_to_existing_notes(sample_note_text, long_note_list)\n",
    "end_time = time.time()\n",
    "print(f\"Time taken for long_note_list: {end_time - start_time:.6f} seconds\")\n",
    "\n"
   ]
  },
  {
   "cell_type": "code",
   "execution_count": null,
   "metadata": {},
   "outputs": [],
   "source": [
    "import random\n",
    "import string\n",
    "\n",
    "for mag in range(10):\n",
    "    start_time = time.time()\n",
    "\n",
    "    long_note_list = [\n",
    "        ''.join(random.choices(string.ascii_letters + string.digits, k=10)) \n",
    "        for _ in range(10**mag)\n",
    "    ]\n",
    "    end_time = time.time()\n",
    "    print(f\"Length of long_note_list: {len(long_note_list)}\")\n",
    "    print(f\"Time taken: {end_time - start_time:.6f} seconds\")"
   ]
  },
  {
   "cell_type": "code",
   "execution_count": null,
   "metadata": {},
   "outputs": [],
   "source": [
    "# test the note name validation\n",
    "\n",
    "from text_to_note import assert_note_name_is_valid\n",
    "\n",
    "test_names = [\n",
    "    \"Cursor CTO Interview\",\n",
    "    'test:notename',\n",
    "    'budget[2025]',\n",
    "    'turing-NLG',\n",
    "    '#1 #2 heck yeah']\n",
    "\n",
    "for name in test_names:\n",
    "    try:\n",
    "        assert_note_name_is_valid(name+\".md\")\n",
    "        print(f\"Note name '{name}.md' is valid.\")\n",
    "    except ValueError as e:\n",
    "        print(f\"Note name '{name}.md' is invalid: {e}\")"
   ]
  },
  {
   "cell_type": "code",
   "execution_count": null,
   "metadata": {},
   "outputs": [],
   "source": [
    "from tools.brave_search import get_web_links\n",
    "\n",
    "results = get_web_links(\"curl command\", count=10)\n",
    "results"
   ]
  },
  {
   "cell_type": "code",
   "execution_count": 1,
   "metadata": {},
   "outputs": [
    {
     "name": "stderr",
     "output_type": "stream",
     "text": [
      "/Users/Ben.Wyatt/Repos/personal/obsidian-llm-tool-use/.venv/lib/python3.12/site-packages/tqdm/auto.py:21: TqdmWarning: IProgress not found. Please update jupyter and ipywidgets. See https://ipywidgets.readthedocs.io/en/stable/user_install.html\n",
      "  from .autonotebook import tqdm as notebook_tqdm\n"
     ]
    }
   ],
   "source": [
    "from tools.brave_search import get_web_content\n",
    "import dspy\n",
    "from dotenv import load_dotenv\n",
    "import os\n",
    "load_dotenv()\n",
    "\n",
    "api_key = os.getenv(\"AZURE_OPENAI_API_KEY\")\n",
    "api_base = os.getenv(\"AZURE_OPENAI_ENDPOINT\")\n",
    "deployment_name = 'gpt-4.1'\n",
    "\n",
    "\n",
    "azure_lm = dspy.LM(\n",
    "    model=f\"azure/{deployment_name}\",\n",
    "    api_key=api_key,\n",
    "    api_base=api_base,\n",
    "    api_version=\"2023-03-15-preview\"\n",
    ")\n",
    "\n",
    "\n",
    "dspy.configure(lm=azure_lm)\n"
   ]
  },
  {
   "cell_type": "code",
   "execution_count": 2,
   "metadata": {},
   "outputs": [],
   "source": [
    "class WebResearcher(dspy.Signature):\n",
    "    \"\"\"You are a researcher who can search the web for information.\"\"\"\n",
    "    question: str = dspy.InputField(description=\"The question that needs to be answered.\")\n",
    "    answer: list[str] = dspy.OutputField(description=\"The answer from the web.\")\n",
    "\n",
    "agent = dspy.ReAct(\n",
    "    WebResearcher,\n",
    "    tools=[get_web_content]\n",
    ")\n",
    "    "
   ]
  },
  {
   "cell_type": "code",
   "execution_count": 5,
   "metadata": {},
   "outputs": [
    {
     "name": "stdout",
     "output_type": "stream",
     "text": [
      "Error fetching URL https://www.criterion.com/current/posts/6395-a-leading-palestinian-auteur-looks-toward-the-light: 403 Client Error: Forbidden for url: https://www.criterion.com/current/posts/6395-a-leading-palestinian-auteur-looks-toward-the-light\n"
     ]
    }
   ],
   "source": [
    "result = agent(question=\"What is the name of the criterion collection movie that is a documentary about a middle eastern country like Lebanon or Palestine?\")"
   ]
  },
  {
   "cell_type": "code",
   "execution_count": 6,
   "metadata": {},
   "outputs": [
    {
     "data": {
      "text/plain": [
       "Prediction(\n",
       "    trajectory={'thought_0': 'I need to identify a Criterion Collection documentary that focuses on a Middle Eastern country such as Lebanon or Palestine. To do this, I should search for a list of Criterion Collection documentaries about Middle Eastern countries, or specifically about Lebanon or Palestine, to find the relevant title.', 'tool_name_0': 'get_web_content', 'tool_args_0': {'query': 'Criterion Collection documentary about Lebanon or Palestine', 'count': 5}, 'observation_0': 'Source URL: https://www.filmslop.com/features/does-the-criterion-collection-care-about-arab-cinema\\n\\nContent:\\nThree years ago, I discovered what would become one of my favorite movies: Nabil Maleh’s The Extras (1993). The Syrian comedy-drama follows Salem, an aspiring actor who can only find work as an extra, trying to arrange a secret meeting with Nada, the girl he is courting. The two can only be together in public under the supervision of Nada’s strict family—it is against the law for unmarried couples to be alone together, and Salem does not yet have the funds to marry her. The entirety of the film takes place in the refuge of Salem’s friend’s apartment; in private for the first time, the two get to know each other intimately, albeit in constant fear of being found.\\nThe Extras was initially banned in Syria upon release—not difficult to see why, as it clearly criticizes the country’s government at the time, though the commentary still applies to nearly all conservative societies in the Arab/Muslim world today. It was the first time I had seen an Arab arthouse film be so candid about a taboo topic, and also so open in its portrayal of sexual desire; through fantasy sequences we see Salem’s imagination run wild before Nada arrives, and how absurd his expectations are compared to the shy, nervous girl who knocks at the door. The most striking thing to me was the writing, brought to life by wonderful actors Bassam Kousa and Samar Sami. In the claustrophobic two-hour exchange, we understand their character’s awkwardness, excitement, paranoia, shame, love, frustration, and desire. Maleh’s screenplay helps us empathize with Salem navigating life as a man, Nada’s perspective as a woman, and how the two are ultimately operating as extras in the playing field of society.\\nThe Extras (1993)\\nUpon finishing the film, I was over the moon, quickly giving it five stars on Letterboxd before copying the link to send it to a friend. I say ‘link’ because I watched The Extras in four separate parts on YouTube dot com, in 480p with English subtitles. Lauded by Arab cinema experts but unknown to most cinephiles, I felt as if I had dusted off a rare jewel in a hidden treasure chest. I was wondering how different my viewing experience would be if the film had a proper restoration, until I found that it had been removed from the platform entirely. A while later it came back in one full upload, still with dogshit video and audio quality, but that brief period of limbo bamboozled me. I could no longer recommend it to friends because it was found nowhere else. Was it destined to be another entry in the list of sublime films forgotten to time? What about all the other Arab films that I hadn’t seen or even heard of, waiting for me to find them? If only there was a company that could come to my rescue, one that prided itself on licensing, distributing, and restoring…hold on let me check their website description…“important classic and contemporary cinema from around the world”?\\xa0\\nThe Criterion Collection is a staple of modern cinephile culture, with a cult-like following by those who consider the company arbiters of taste. I was for a period also one of these people, and I still find excitement when a film I love is anointed with a shiny new Criterion edition box set cover (I’m still itching to get the Moonstruck Blu-ray whenever I get spare cash and a DVD player). The Criterion Channel, though not the focus of this piece, has featured some lovely Arab films in the past on their platform—while writing this they announced a lineup of Youssef Chahine films streaming this August!—but if a film doesn’t have a proper physical edition that can be purchased when a streaming window ends, then I personally don’t consider it a protected or preserved film. And in the over 1000 films protected and preserved by the Criterion Collection in the past four decades, only four hail from in and around the Arab world: Battle of the Algiers (directed by an Italian), The Other Side of Hope (a Finnish production from a Finnish director, following in part a Syrian refugee in Helsinki), The Secret of the Grain (a French production, set in France, about a French-Arab family), and the Moroccan music documentary Trances (the only film here to be produced entirely in its home country, and completely in the Arabic language). In the one hundred-year history of Middle Eastern and North African cinema, with countries spanning two continents, a combined population of nearly 500 million people, and an innumerable amount of talented filmmakers deserving of recognition, only four films, and only two directors of Arab descent, have been deemed worthy.\\xa0\\nThe Collection has been called out for its lack of diversity in the past: in 2020, The New York Times published the article How the Criterion Collection Crops Out African-American Directors, detailing how, at the time, only four filmmakers of African American descent were included. The majority of entries into the Collection are indeed quite local, with a bias towards American, European, and East Asian film. This has changed slightly, particularly since the company began collaborating with Martin Scorsese\\'s World Cinema Project, where “infrequently screened films from regions generally ill equipped to preserve their own cinema history” are restored for purchase in a collector’s set—this is how Trances (1981) was acquired. And while this is great, I can’t help but notice that this method of inclusion puts less emphasis on the individual auteur and more on the WCP itself; if you want one film, you have to get the box set with five more.\\xa0\\nTrances (1981)\\nNow, there might be an earnest attempt and intention behind the scenes at Criterion to officially dive into Arab cinema. Maybe they have a long list of films they’d like to acquire; maybe they’ve had a few Zoom calls with a distributor and weren’t able to get the rights to a title. But I have a sinking feeling that the real reason for the absence of Arab auteurs in the Collection winds down to simple oversight. Arab art is just not a priority. It isn’t to a lot of Western film institutions, but it’s disappointing to see that a company that claims to be dedicated to cinema preservation on a worldwide scale is no different.\\nThe origin and evolution of Arab cinema is an incredibly dense topic, varying from nation to nation. Each country has its own batch of auteurs and cinema movements relative to their unique histories. This only makes the preservation of films from Arabic-speaking countries more essential. It can be a difficult field to navigate, but to that I say, isn’t that the fun part of your job? Finding an unknown classic, restoring it with care, and making it accessible to people you know will love it? I imagine there also must be a sense of duty to give voice to the voiceless. This is a time where Arabs in their home countries, Palestine, Sudan, Yemen, and the like, are facing death and displacement, while their diasporas face persecution. Art can be used as a resource to help safeguard their legacies, spread awareness, and formulate understanding. What can be said about a film company that does not prioritize this for all spheres of cinema?\\nI won’t make excuses, but even I had to come to know the cinema of my people through pointed research. Maybe this situation requires some hand-holding—if it’s movie suggestions you need, I will offer them to you. A caveat: I am not an expert, just a brat with her thinking cap on. There are some films on this list that I haven’t even seen but know from word-of-mouth (why haven’t I seen them? Because they’re not easily accessible! That’s the whole issue here.) There’s also no way I’ll be able to list everything, so I will be limiting my suggestions to two to three films per nation, with a focus on auteurs both old and new, and the occasional box set idea.\\xa0\\nThe Night (1992)\\nSince we started in Syria with The Extras, which I’ve already made a case for, the next place to look would be the work of the masterful Mohammad Malas. Having helmed both documentaries and narrative work like many Arab auteurs, his most acclaimed work is the autobiographical narrative feature The Night (1992). The film is set in Quneitra, Malas’ now largely destroyed hometown, and mirrors his real life. The film’s protagonist tries to honor the death of his father, a resistance fighter for Palestine, by following in his footsteps. He and his mother reflect on their personal tragedies through abstract storytelling, deliberately not mythologizing the suffering of the family or their people. In recent years, Syria has been mostly known for its output of documentaries, and For Sama (2019) is as worthy a film as any. Director and subject Waad al-Kateab films five years of her life during the uprisings in Aleppo, from her marriage to the birth of her daughter, Sama. Waad struggles with the decision to leave Syria for her daughter’s life or to stay after so much sacrifice.\\xa0\\nHeading slightly west from Syria to Lebanon, chances are, if anyone has seen an Arab film from the past decade, it’s likely Nadine Labaki’s Capernaum (2018). Zain, a twelve-year-old boy from the slums of Beirut, attempts to sue his parents for child neglect; through flashbacks we learn about the boy’s life and experiences that lead him to the courtroom. Capernaum won the Jury Prize at the Cannes Film Festival and went on to become the highest-grossing Arabic language film of all time, cementing Labaki’s status as a foremost voice in the Arab film industry.\\nLeila and the Wolves (1984)\\nSpeaking of Cannes, the first Arab woman to have her film selected for the festival was Lebanese documentarian Heiny Srour. The selected picture was 1974’s The Hour of Liberation Has Arrived, a radical documentary about the 1960s guerilla movement of the Popular Front for the Liberation of Oman and the Arabian Gulf from the British. Her second and last full-length feature came ten years later in Leila and the Wolves, an experimental documentary about Leila, a Lebanese woman in London, time traveling through the 1900s and 1970s to lay bare the roles Arab women play in liberation movements. Both films center leftist and anti-colonial struggles, while highlighting the hidden yet essential role of Arab women in these struggles. Srour, who is still around at age 79, is an undeniable talent, entirely deserving of Criterion’s recognition, likely in the form of a two-disc box set with both of her incredible features.\\xa0\\nEgyptian cinema is its own beast, what with its dense Golden Age, from the ‘40s to the ‘60s, and its ongoing output that dominates the Arab entertainment industry today. Since the classic era looms so large, why not introduce it to viewers via a three-film collectors set? Before Omar Sharif landed in Hollywood, he made tons of movies in Egypt; let’s include some of his early work, like the romantic comedy Rumor of Love co-starring Soad Hosny, and the Salah Abu Seif drama A Beginning and an Ending? If you need more star power, why not look to Sharif’s then-wife, better known as the Lady of the Arabic Screen, Faten Hamama? Her decades-spanning filmography is massive, but her most acclaimed film is certainly The Nightingale’s Prayer from 1959. Taking place in the Egyptian countryside, Hamama plays Amna, who loses her sister to an honor killing. She plots her revenge against the man who ruined her sister’s life and family’s honor, and we watch as she continuously fails, putting herself in more and more danger.\\nAlexandria…Why? (1979)\\nInarguably the most well-known filmmaker from the entire region is Youssef Chahine. In a way, one can observe the progression of cinema in Egypt through his extraordinary body of work, from his start in the Golden Age to his last film in the 2000s. He has an abundance of classics like Cairo Station, The Land, and Destiny, but I’d like to zero in on Alexandria…Why? the first in a quartet of semi-autobiographical films. A departure from his musicals and melodramas of the 50s and 60s, protagonist Yehia, a stand-in for Chahine, dreams of making it big as an actor against the backdrop of World War II. Chahine’s passion for both his craft and his people is on full, loving display, of course making sure to deliver a subversive anti-war message by the end.\\nChronicles of the Years of Fire from director Mohammed Lakhdar-Hamina was the first, and to date only, Arab or African film to win the esteemed Palme d’Or in 1975. Composed of several “chapters”, the epic covers various events in Algeria’s history to demonstrate that the militant attacks on Red All Saints\\' Day in 1954 were a result of prolonged suffering under French colonization. The film is one of two Algerian productions preserved by the World Cinema Project, the other being the 1979 film La Nouba des femmes du Mont Chenoua from filmmaker and feminist writer Assia Djebar. Mixing both narrative and documentary elements, she follows subject Lila as she returns to her mountainous hometown a decade after the Algerian war. In dialogue with other Algerian women there, Djebar compares the past and present, and how anti-colonial traditions are passed on from generation to generation.\\xa0\\nLast year, Kaouther Ben Hania became the first Arab woman to have two of her films nominated at the Oscars—The Man Who Sold His Skin was nominated for International Feature in 2020, and Four Daughters got a nod for Best Documentary. In the latter, Ben Hania invites two professional actresses to fill in for two of Olfa’s missing daughters. This experiment gives way to intimate and revealing conversations about womanhood, rebellion, family, and the foundations of society. Ben Hania’s rise reminds me of another Tunisian female filmmaker, the late Moufida Tlatli. Her 1994 masterpiece The Silences of the Palace won the Camera d’Or at that year’s Cannes and features movie star Hend Sabry in her acting debut. Alia grew up in a palace where her mother was a mistress and servant. Wandering through the abandoned palace as a grown woman, she pieces together memories of her mother, and the exploitation she was faced with because of her gender and class.\\xa0\\nThe Silences of the Palace (1994)\\nA few years ago, on the Criterion Channel, in fact, I watched Maryam Touzani’s directorial debut, Adam (2019). The film follows two women in Casablanca, the pregnant and unmarried Samia, reluctantly taken in by a widowed baker, Abla. Both women are in difficult periods of their lives, but come to support and nurture one another. I was struck by Touzani’s sensitive storytelling, and how it never once felt that she was catering to the Western eye. Her most recent effort, The Blue Caftan (2022), takes the same qualities from Adam and doubles it. A married couple runs a traditional caftan store in Morocco: Halim is a closeted gay man, and his wife Mina keeps his secret. As a new apprentice arrives and Mina’s health begins to deteriorate, a moving tale of love and devotion unravels, bound to leave you in tears.\\xa0\\nMorocco is also home to some fascinating and experimental documentaries. Banned and lost for decades, Mostafa Derkaoui’s About Some Meaningless Events (1972) follows Derkaoui and his crew as they wander the city, chatting with passersby about their relationships with cinema, when a crime is suddenly committed. Deciding to investigate, the filmmakers begin to reflect on their own role in the creation of cinema. In The Mother of All Lies (2023), filmmaker Asmae El Moudir looks into why her family hardly has any personal photos; she and her father recreate her childhood street with clay figurines. Interviewing her various neighbors and family members, she uncovers her family’s secrets and the lies she was told in childhood.\\xa0\\nThe Blue Caftan (2022)\\nIn Sudan, the cinema industry has just started to sprout, with a limited but still lovely assortment of films to consider. You Will Die at Twenty (2019) is Amjad Abu Alala’s acclaimed first feature, a fable-like story of a newborn boy in a Sudanese village told by a mystic that he will die at age twenty. Flashforward to the boy’s nineteenth year, anticipating death as he finally begins to taste life. The recent Goodbye Julia (2023) was the first Sudanese film to be selected at Cannes, taking place in Khartoum in the last years of Sudan as a united country. After covering up the murder of a Southern Sudanese man, a retired singer from the north takes in the deceased’s widow as a maid in an attempt to atone for her guilt—but things don’t go as planned.\\xa0\\nPalestinian filmmakers, through fiction or documentary, have always used cinema as a tool to communicate the plight of their land and people. The plethora of documentaries from Palestine include landmark works such as Jenin, Jenin (2003) and 5 Broken Cameras (2011). In the former, Palestinian actor Mohammed Bakri enters a Palestinian refugee camp in Jenin to uncover the truth about what happened at the “Battle of Jenin” the year prior. Through intimate and unvarnished testimony, residents allege that the Israeli Occupation Forces had committed a massacre with over 500 casualties, gone unrecognized by major human rights organizations. In 5 Broken Cameras, Emad Burnat documents his life through five different cameras, from the birth of his son, the seizure of his village’s land, peaceful activists attacked by the army, and more everyday atrocities. Each one of the cameras used to document these images is in some way destroyed.\\xa0\\nTale of the Three Jewels (1995)\\nNarrative fiction from Palestine also serves to impart truth to the viewer. Adapted from revolutionary author Ghassan Kanafani’s Men in the Sun, Tawfiq Saleh’s 1972 film The Dupes follows three Palestinian men exiled from their land in 1948, trying to make their way to Kuwait. A staggering and suspenseful picture starring non-professional actors, the film was actually restored by the World Cinema Project, making it an easy choice for a future Criterion release. The Dupes was shot in Syria and portrays the struggle of Palestinian diaspora, but Michel Khleifi’s 1995 film Tale of the Three Jewels was the first film to be wholly shot and produced in Gaza. Twelve-year-old Yussef’s father is in prison, and his brother is on the run from the Israeli army. He meets Aida, a pretty girl his age, and tries to win her over; she says she’ll offer her heart only if he helps her find her grandma’s lost jewels. Khleifi mixes childlike wonder with realism in a picture absolutely deserving of a wider audience.\\xa0\\nVisionary Palestinian auteur Elia Suleiman has an immediately recognizable style, and all four of his feature films—Chronicle of a Disappearance (1996), Divine Intervention (2002), The Time That Remains (2009), and It Must Be Like Heaven (2019)—in my opinion, should be sold together in a collector’s set. If I had to choose only one, it would be The Time That Remains (2009). An absolutely essential work, Suleiman infuses memories of his family, neighbors, teachers, and friends into each scene to portray the evolution of daily life for Palestinians in Nazareth from the start of the occupation in 1948 to the present day. His use of space, color and sound echoes the work of Jacques Tati and Buster Keaton, resulting in a silent triumph of a film that everyone should have on their watchlist.\\nThe Time That Remains (2009)\\nI hope that, using this very long but still very incomplete list, someone at the Criterion Collection, or even an everyday cinephile, comes away with an understanding of the possibilities that exist when it comes to preserving Arab cinema. There are so many creative ways to approach packaging and distributing these titles, and if I’m any proof, there is a market for it. There is so much to appreciate and even more to look forward to, especially with the boom in the industry in the past few years—just look to the Arabian Gulf and the upcoming filmmakers forging their own paths. It would be amazing if our great influential filmmakers, many who are still alive today, got to have their films recognized with a Criterion edition—not having one doesn’t diminish or lessen the caliber of their work, but it would bring their talents to a wider audience. That is all that we as film lovers can hope to do.\\xa0\\nP.S. If anyone is interested in watching Arab cinema in the appropriate places online, I implore you to use specially-curated streaming services like Aflamuna and Shasha Movies. solidaritycinema.com has an abundance of selections from the Arab world, and there is an assortment of films also available on Netflix if you search “Arabic Movies”. Don’t be afraid to use YouTube as a resource too—you might find your own hidden gem, like I did with The Extras.\\xa0\\nEman Ibrahim is a staff writer at FilmSlop.\\n\\nSource URL: https://www.bloomsburycollections.com/book/documentary-cinema-in-israel-palestine-performance-the-body-the-home/acknowledgments-1\\n\\nContent:\\nOr\\n\\r\\n                    Don\\'t have a personal account yet?\\n\\nSign up now.\\n\\njohndoe@gmail.com\\nAre you sure you want to reset the form?\\nYour mail has been sent successfully\\nAre you sure you want to remove the alert?\\nYour session is about to expire! You will be logged out in \\n Do you wish to stay logged in?\\nWe\\'re sorry, but that page can’t be found.\\nPlease visit our Home page or try using the Search, Explore or Browse links above to find what you are looking for.\\n\\r\\n\\t\\t\\t\\t\\t\\t\\tAre you sure you want to remove the page from \"My Saved Items\"?\\t\\r\\n\\t\\t\\t\\t\\t\\t\\nThis item is only available to the members of institutions that have purchased access. If you belong to such an institution please Log In\\nUse your personal account to save  \\'favourite\\' articles, chapters and books. Sign In now\\nDon\\'t have a personal account yet?  Sign Up now\\n\\n$articlemlacitations\\n\\nYour mail has been sent successfully\\n\\nSource URL: https://www.reddit.com/r/criterion/comments/zq4xy3/looking_for_palestinian_cinema_recommendations/\\n\\nContent:\\nRounding out my list for next year where I aim to tackle some of my blindspots with film, basically digging into countries, directors, decades, and genres I’m not as familiar with.\\n    \\n\\n      I have one spot left and want to include a film from Palestine. Looking for something that isn’t too hard to get a hold of (I have access to CC and Mubi for streaming).\\n    \\n\\n      Please and thanks\\n    \\nAnyone can view, post, and comment to this community\\n\\nSource URL: https://www.theguardian.com/film/2024/sep/30/no-other-land-review-palestinian-israeli-documentary\\n\\nContent:\\nNew York film festival: a Palestinian-Israeli collective have documented violence and displacement in a damning new film that offers a stark insider’s look at the conflict\\nIt’s difficult to review No Other Land, a documentary by a group of Palestinian and Israeli activist film-makers on the destruction of villages in the West Bank, on a formal level. The usual rubric for evaluating non-fiction cinema does not really extend to films whose existence was actively challenged throughout filming, whose makers’ equipment and livelihood were constantly at risk. A good portion of the film, which was selected for this year’s New York film festival and won best documentary at the Berlin film festival (to politicized charges of antisemitism and death threats against its makers), is composed of amateur video footage by Basel Adra, who began filming the Israeli occupation of his village in Masafer Yatta at the age of 15, in the name of evidence.\\nThat evidence put forth by the directors – Adra, Israeli journalist Yuval Abraham, Palestinian film-maker and farmer Hamdan Ballal and Israeli cinematographer and editor Rachel Szor – is straightforward, un-sensationalized and completely infuriating. There is nothing to say that has not already been said on the case for Palestinian sovereignty, the war crimes of the Israeli government and the moral clarity of those who call for an end to violence and occupation. No Other Land, should it make it to theaters – the film is, perhaps unsurprisingly, still seeking distribution in the US – ensures that people cannot deny it; that there exists a model of coexistence and mutual safety between Palestinians and Israelis; and that there is no justification for the campaign of wanton destruction and despair in the West Bank, just as in Gaza and now Lebanon.\\n“I started filming when we started to end,” says Adra in Arabic voiceover at the film’s outset. Through his testimony as well as his father’s, No Other Land summarily details both bucolic daily life for the mostly agrarian communities in Masafer Yatta, a collection of 20 Palestinian villages in the mountainous southern edge of the West Bank, and the generational fight to maintain it against increasingly violent Israeli occupation. The film is forthright if almost too succinct on the facts: in 1980, the Israeli government declared Masafer Yatta a “closed area” for military training, though government documents reveal that the real purpose was to displace Palestinian villagers for illegal Israeli settlements.\\nAdra was born into a family of activists, in a village declared off-limits to Palestinians, whose residents allied with an Israeli legal group to protest against their forced expulsion. The film picks up in 2022 when, after a 22-year legal battle, the Israeli high court dubiously rules in favor of eviction, beginning an official campaign of destruction that Adra and his cohort capture in damning, persistent, mundane detail. Much of the 95-minute film takes place in Arabic or Hebrew, with occasional interludes of western news coverage, to which Adra and Abraham have sometimes contributed. (For transparency: Abraham has reported for the Guardian on Israeli intelligence agencies’ decade-long campaign to surveil, hack, pressure, smear and allegedly threaten senior international criminal court staff in an effort to derail the court’s inquiries.)\\nNo Other Land proceeds in increasingly dire chapters, as Adra continues his work of recording Israeli incursions on Masafer Yatta villagers, posting undeniable scenes of occupation to social media: bulldozers pulverizing family homes as children cry, a backhoe pointedly destroying a family’s toilet, officials stealing another family’s generator, police filling wells with cements. IDF soldiers – Black, Arab, white, male and female – who do not flash a hint of vulnerability, who carry out the home demolitions with the coolness of its legal order. Families forced to huddle in caves while they attempt to rebuild rudimentary structures at night. “We have no other land, that’s why we suffer for it,” says one older woman after her home is destroyed. The woman’s son is later shot and paralyzed by Israeli forces, one of several acts of physical violence captured by the film-makers.\\nNone of this is new, for anyone paying attention (and so often the failure is attention). But what Adra, Abraham, Ballal and Szor have created is a clear case and a model in its specificity. The protest scenes are bookended by taut, remarkably natural-seeming conversations between Adra and Abraham on the mutual suspicion, complications and necessity of Palestinian-Israeli connections that evince a winsome, hard-won trust; the film subtly explores the power imbalance between Adra, whose movement is restricted, and Abraham, who can drive away at night.\\nIn an early scene, filmed in 2019, Adra and his community express hope that the US will exert enough pressure on Israel to stop the expulsion, a reasonable enough notion that now feels heartbreakingly quaint. It’s a condemnation of western complicity as damning as anything said in far blunter terms in the many protests abroad. By the film’s end, just a few years later, Adra and Abraham discuss the utility of reaching people beyond the region – so you touch someone, and then what? Conditions have only deteriorated since filming was completed in October 2023; emboldened by Israel’s war in Gaza, extremist settlers have evicted 16 Palestinian villages in the West Bank in the past year. The film’s last recorded image is of a group of rogue settlers approaching Masafer Yatta with guns. But No Other Land, for its many images of despair, still offers a stirring vision for what could be – Israelis and Palestinians working together in the name of justice, collaborating toward a world where both are free.\\nNo Other Land is screening at the New York film festival and will be released in the UK on 8 November and Australia on 21 November, with a US date to be announced', 'thought_1': 'From the search results, it appears that the Criterion Collection has very limited representation of documentaries about Middle Eastern countries, particularly Lebanon or Palestine. The only Middle Eastern documentary currently in the Criterion Collection is \"Trances\" (1981), which is Moroccan. For Palestine, while there are many acclaimed documentaries such as \"5 Broken Cameras\" and \"Jenin, Jenin,\" and for Lebanon, films like \"Leila and the Wolves\" and \"The Hour of Liberation Has Arrived\" are mentioned as deserving of Criterion recognition, none are currently part of the official Criterion Collection. Therefore, the answer is that there is no Criterion Collection documentary specifically about Lebanon or Palestine at this time; the closest is \"Trances\" (Morocco), and \"Battle of Algiers\" (Algeria, though not a documentary). I am ready to finish with this answer.', 'tool_name_1': 'finish', 'tool_args_1': {}, 'observation_1': 'Completed.'},\n",
       "    reasoning='Based on the available information, the Criterion Collection has very limited representation of documentaries about Middle Eastern countries, especially Lebanon or Palestine. The only Middle Eastern documentary currently in the Criterion Collection is \"Trances\" (1981), which is about Morocco. While there are several acclaimed documentaries about Palestine (such as \"5 Broken Cameras\" and \"Jenin, Jenin\") and Lebanon (such as \"Leila and the Wolves\" and \"The Hour of Liberation Has Arrived\"), none of these are currently part of the official Criterion Collection. Therefore, there is no Criterion Collection documentary specifically about Lebanon or Palestine at this time.',\n",
       "    answer=[\"There is currently no Criterion Collection documentary specifically about Lebanon or Palestine. The closest Middle Eastern documentary in the Criterion Collection is 'Trances' (1981), which is about Morocco.\"]\n",
       ")"
      ]
     },
     "execution_count": 6,
     "metadata": {},
     "output_type": "execute_result"
    }
   ],
   "source": [
    "result"
   ]
  },
  {
   "cell_type": "code",
   "execution_count": null,
   "metadata": {},
   "outputs": [],
   "source": [
    "result.trajectory"
   ]
  },
  {
   "cell_type": "code",
   "execution_count": null,
   "metadata": {},
   "outputs": [],
   "source": [
    "dspy.inspect_history(n=10)"
   ]
  },
  {
   "cell_type": "markdown",
   "metadata": {},
   "source": [
    "## How to Expand this:\n",
    "- replace the basic web flow with this react agent\n",
    "- make it an orchestration: the question-answerer has tools that trigger web search agents and other types of agents too\n",
    "  - like what? "
   ]
  }
 ],
 "metadata": {
  "kernelspec": {
   "display_name": ".venv",
   "language": "python",
   "name": "python3"
  },
  "language_info": {
   "codemirror_mode": {
    "name": "ipython",
    "version": 3
   },
   "file_extension": ".py",
   "mimetype": "text/x-python",
   "name": "python",
   "nbconvert_exporter": "python",
   "pygments_lexer": "ipython3",
   "version": "3.12.0"
  }
 },
 "nbformat": 4,
 "nbformat_minor": 2
}
