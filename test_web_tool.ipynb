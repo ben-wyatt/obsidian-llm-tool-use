{
 "cells": [
  {
   "cell_type": "code",
   "execution_count": null,
   "metadata": {},
   "outputs": [],
   "source": [
    "from web_to_note import extract_main_content, generate_single_note_from_urls\n",
    "\n",
    "# Test extract_main_content function\n",
    "test_url = \"https://en.wikipedia.org/wiki/Cursor_(code_editor)\"\n",
    "print(\"Testing extract_main_content...\")\n",
    "content = extract_main_content(test_url)\n",
    "if content:\n",
    "    print(\"Content extracted successfully:\")\n",
    "    print(content[:500])  # Print the first 500 characters for brevity\n",
    "else:\n",
    "    print(\"Failed to extract content.\")\n"
   ]
  },
  {
   "cell_type": "code",
   "execution_count": null,
   "metadata": {},
   "outputs": [],
   "source": [
    "# Test generate_single_note_from_urls function\n",
    "test_urls = [\n",
    "    test_url\n",
    "]\n",
    "test_note_name = \"Cursor CTO Interview\"\n",
    "generate_single_note_from_urls(test_urls, test_note_name, verbose=True)"
   ]
  },
  {
   "cell_type": "code",
   "execution_count": null,
   "metadata": {},
   "outputs": [],
   "source": [
    "urls = [\n",
    "    'https://en.wikipedia.org/wiki/Cursor_(code_editor)',\n",
    "    'https://www.youtube.com/watch?v=4jDQi9P9UIw'\n",
    "]"
   ]
  },
  {
   "cell_type": "code",
   "execution_count": null,
   "metadata": {},
   "outputs": [],
   "source": [
    "# test the youtube transcription tool\n",
    "\n",
    "from youtube_transcript_api import YouTubeTranscriptApi\n",
    "from text_to_note import obsidify_text\n",
    "\n",
    "youtube_url = \"https://www.youtube.com/watch?v=4jDQi9P9UIw\"\n",
    "\n",
    "yt_id = youtube_url.split(\"v=\")[1].split(\"&\")[0]\n",
    "transcript = YouTubeTranscriptApi.get_transcript(yt_id)\n",
    "\n",
    "transcript_text = \" \".join([t[\"text\"] for t in transcript])\n",
    "obsidify_text(transcript_text, \"Cursor CTO Interview\", ignore_token_limit=True)"
   ]
  },
  {
   "cell_type": "code",
   "execution_count": null,
   "metadata": {},
   "outputs": [],
   "source": [
    "# test the youtube transcription tool\n",
    "\n",
    "from youtube_transcript_api import YouTubeTranscriptApi\n",
    "from text_to_note import obsidify_text\n",
    "from web_to_note import extract_main_content\n",
    "\n",
    "url = 'https://www.youtube.com/watch?v=LCEmiRjPEtQ'\n",
    "\n",
    "generate_single_note_from_urls([url], \"Andrej Karpathy Software Is Changing (Again)\", insert_links=True, verbose=True)"
   ]
  },
  {
   "cell_type": "code",
   "execution_count": null,
   "metadata": {},
   "outputs": [],
   "source": [
    "#test the note insertion\n",
    "from text_to_note import insert_links_to_existing_notes\n",
    "from tools.md_files import get_notes_list\n",
    "\n",
    "note_list = get_notes_list()\n",
    "\n",
    "\n",
    "with open('sample_note.md', 'r') as f:\n",
    "    sample_note_text = f.read()\n",
    "\n",
    "\n",
    "print('length of sample note text: ', len(sample_note_text))\n",
    "print(sample_note_text[:1000])"
   ]
  },
  {
   "cell_type": "code",
   "execution_count": null,
   "metadata": {},
   "outputs": [],
   "source": [
    "#long note list to test O() complexity\n",
    "import random\n",
    "import string\n",
    "\n",
    "long_note_list = [\n",
    "    ''.join(random.choices(string.ascii_letters + string.digits, k=10)) \n",
    "    for _ in range(100000)\n",
    "]\n",
    "long_note_list[:10]"
   ]
  },
  {
   "cell_type": "code",
   "execution_count": null,
   "metadata": {},
   "outputs": [],
   "source": [
    "import time\n",
    "\n",
    "# Timing the function for note_list\n",
    "start_time = time.time()\n",
    "updated_sample_note = insert_links_to_existing_notes(sample_note_text, note_list)\n",
    "end_time = time.time()\n",
    "print(f\"Time taken for note_list: {end_time - start_time:.6f} seconds\")\n",
    "\n",
    "# Timing the function for long_note_list\n",
    "start_time = time.time()\n",
    "updated_sample_note_long = insert_links_to_existing_notes(sample_note_text, long_note_list)\n",
    "end_time = time.time()\n",
    "print(f\"Time taken for long_note_list: {end_time - start_time:.6f} seconds\")\n",
    "\n"
   ]
  },
  {
   "cell_type": "code",
   "execution_count": null,
   "metadata": {},
   "outputs": [],
   "source": [
    "import random\n",
    "import string\n",
    "\n",
    "for mag in range(10):\n",
    "    start_time = time.time()\n",
    "\n",
    "    long_note_list = [\n",
    "        ''.join(random.choices(string.ascii_letters + string.digits, k=10)) \n",
    "        for _ in range(10**mag)\n",
    "    ]\n",
    "    end_time = time.time()\n",
    "    print(f\"Length of long_note_list: {len(long_note_list)}\")\n",
    "    print(f\"Time taken: {end_time - start_time:.6f} seconds\")"
   ]
  },
  {
   "cell_type": "code",
   "execution_count": 2,
   "metadata": {},
   "outputs": [
    {
     "name": "stdout",
     "output_type": "stream",
     "text": [
      "Note name 'Cursor CTO Interview.md' is valid.\n",
      "Note name 'test:notename.md' is invalid: Filename 'test:notename.md' contains OS-level forbidden characters.\n",
      "Note name 'budget[2025].md' is invalid: Filename 'budget[2025].md' contains Obsidian-specific forbidden characters.\n",
      "Note name 'turing-NLG.md' is valid.\n",
      "Note name '#1 #2 heck yeah.md' is invalid: Filename '#1 #2 heck yeah.md' contains Obsidian-specific forbidden characters.\n"
     ]
    }
   ],
   "source": [
    "# test the note name validation\n",
    "\n",
    "from text_to_note import assert_note_name_is_valid\n",
    "\n",
    "test_names = [\n",
    "    \"Cursor CTO Interview\",\n",
    "    'test:notename',\n",
    "    'budget[2025]',\n",
    "    'turing-NLG',\n",
    "    '#1 #2 heck yeah']\n",
    "\n",
    "for name in test_names:\n",
    "    try:\n",
    "        assert_note_name_is_valid(name+\".md\")\n",
    "        print(f\"Note name '{name}.md' is valid.\")\n",
    "    except ValueError as e:\n",
    "        print(f\"Note name '{name}.md' is invalid: {e}\")"
   ]
  },
  {
   "cell_type": "code",
   "execution_count": null,
   "metadata": {},
   "outputs": [],
   "source": []
  }
 ],
 "metadata": {
  "kernelspec": {
   "display_name": ".venv",
   "language": "python",
   "name": "python3"
  },
  "language_info": {
   "codemirror_mode": {
    "name": "ipython",
    "version": 3
   },
   "file_extension": ".py",
   "mimetype": "text/x-python",
   "name": "python",
   "nbconvert_exporter": "python",
   "pygments_lexer": "ipython3",
   "version": "3.12.0"
  }
 },
 "nbformat": 4,
 "nbformat_minor": 2
}
