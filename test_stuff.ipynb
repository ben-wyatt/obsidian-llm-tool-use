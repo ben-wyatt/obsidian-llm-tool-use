{
 "cells": [
  {
   "cell_type": "code",
   "execution_count": null,
   "metadata": {},
   "outputs": [],
   "source": [
    "import os\n",
    "from dotenv import load_dotenv\n",
    "\n",
    "# Load environment variables from .env file\n",
    "load_dotenv()\n",
    "\n",
    "# Retrieve Azure OpenAI credentials\n",
    "api_key = os.getenv(\"AZURE_OPENAI_API_KEY\")\n",
    "api_base = os.getenv(\"AZURE_OPENAI_ENDPOINT\")\n",
    "deployment_name = 'gpt-4.1-mini'\n"
   ]
  },
  {
   "cell_type": "code",
   "execution_count": null,
   "metadata": {},
   "outputs": [],
   "source": [
    "from openai import AzureOpenAI\n",
    "client = AzureOpenAI(azure_endpoint=os.getenv(\"AZURE_OPENAI_ENDPOINT\"), azure_deployment=deployment_name, api_version=\"2023-03-15-preview\")\n",
    "\n",
    "response =client.chat.completions.create(\n",
    "    model=\"gpt-4.1\",\n",
    "    messages=[{\"role\": \"user\", \"content\": \"What is the capital of France?\"}]\n",
    ")\n",
    "\n",
    "print(response.choices[0].message.content)"
   ]
  },
  {
   "cell_type": "code",
   "execution_count": null,
   "metadata": {},
   "outputs": [],
   "source": [
    "import openai\n",
    "import os\n",
    "\n",
    "# Set your Azure OpenAI credentials\n",
    "openai.api_key = os.getenv(\"AZURE_OPENAI_API_KEY\")  # Or set it directly as a string\n",
    "openai.api_base = os.getenv(\"AZURE_OPENAI_ENDPOINT\")  # e.g., \"https://<your-resource-name>.openai.azure.com\"\n",
    "openai.api_type = \"azure\"\n",
    "openai.api_version = \"2023-03-15-preview\"\n",
    "\n",
    "# Specify the deployment name of your Azure OpenAI model\n",
    "deployment_name = \"gpt-4.1-mini\"  # Replace with your deployment name\n",
    "\n",
    "# Make a request to the Azure OpenAI service\n",
    "response = openai.ChatCompletion.create(\n",
    "    engine=deployment_name,  # Use \"engine\" instead of \"model\" for Azure\n",
    "    messages=[\n",
    "        {\"role\": \"user\", \"content\": \"What is the capital of France?\"}\n",
    "    ]\n",
    ")\n",
    "\n",
    "# Print the response\n",
    "print(response[\"choices\"][0][\"message\"][\"content\"])"
   ]
  },
  {
   "cell_type": "code",
   "execution_count": null,
   "metadata": {},
   "outputs": [],
   "source": [
    "#test azure openai using DSPy\n",
    "import dspy\n",
    "\n",
    "\n",
    "# Handle missing environment variables\n",
    "if not api_key:\n",
    "    raise ValueError(\"AZURE_OPENAI_API_KEY environment variable is not set.\")\n",
    "if not api_base:\n",
    "    raise ValueError(\"AZURE_OPENAI_ENDPOINT environment variable is not set.\")\n",
    "if not deployment_name:\n",
    "    raise ValueError(\"AZURE_OPENAI_DEPLOYMENT environment variable is not set.\")\n",
    "\n",
    "# Initialize the LM with Azure OpenAI\n",
    "azure_lm = dspy.LM(\n",
    "    model=f\"azure/{deployment_name}\",\n",
    "    api_key=api_key,\n",
    "    api_base=api_base,\n",
    "    api_version=\"2023-03-15-preview\"\n",
    ")\n",
    "\n",
    "# Configure DSPy to use this Azure LM\n",
    "dspy.configure(lm=azure_lm)\n",
    "\n",
    "azure_lm(\"What is the capital of France?\")"
   ]
  },
  {
   "cell_type": "code",
   "execution_count": 1,
   "metadata": {},
   "outputs": [
    {
     "name": "stderr",
     "output_type": "stream",
     "text": [
      "/Users/Ben.Wyatt/Repos/personal/obsidian-llm-tool-use/.venv/lib/python3.12/site-packages/tqdm/auto.py:21: TqdmWarning: IProgress not found. Please update jupyter and ipywidgets. See https://ipywidgets.readthedocs.io/en/stable/user_install.html\n",
      "  from .autonotebook import tqdm as notebook_tqdm\n"
     ]
    },
    {
     "name": "stdout",
     "output_type": "stream",
     "text": [
      "API Key: 5f06d914473b44028e71a889526105d9\n",
      "API Base: https://usecoai50qaoa01.openai.azure.com/\n",
      "Deployment Name: gpt-4.1-mini\n",
      "Response: Prediction(\n",
      "    reasoning='The context is a sample long text intended to be converted into Obsidian markdown format, including links to existing notes where relevant. The existing notes list includes topics such as SQLite, Reinforcement Learning, and others. Since the context is generic and mentions conversion to Obsidian markdown with links, I will create a note that explains the process of converting text into Obsidian markdown, referencing relevant existing notes such as «SQLite for Note Data» and «Reinforcement Learning» as examples of linked notes. This will demonstrate how to link to existing notes in Obsidian using double brackets.',\n",
      "    obs_note='# Sample Long Text Conversion to Obsidian Markdown\\n\\nThis note demonstrates how to convert a long text into Obsidian markdown format, including links to existing notes where relevant.\\n\\n## Overview\\n\\nWhen converting text into Obsidian markdown, it is important to:\\n\\n- Use markdown syntax for headings, lists, and formatting.\\n- Link to existing notes using double brackets `[[ ]]` to create easy navigation.\\n\\n## Example Links to Existing Notes\\n\\nHere are some examples of linking to existing notes in this vault:\\n\\n- For database-related information, see [[SQLite for Note Data]] and [[History_of_SQL]].\\n- For machine learning topics, refer to [[Reinforcement Learning]] and [[Rich_Sutton]].\\n- For general notes, you might check [[Welcome]] or [[Hello World]].\\n\\n## Benefits of Linking Notes\\n\\nLinking notes helps create a network of knowledge, making it easier to find related information and build connections between concepts.\\n\\n---\\n\\nThis sample text can be expanded or adapted depending on the content you want to convert into Obsidian markdown.'\n",
      ")\n"
     ]
    }
   ],
   "source": [
    "import dspy\n",
    "from dspy import Signature, InputField, OutputField, ChainOfThought\n",
    "import os\n",
    "from dspy_modules.note_gen import NoteGenerator\n",
    "from tools.md_files import get_notes_list, create_note\n",
    "from dotenv import load_dotenv\n",
    "\n",
    "\n",
    "load_dotenv()\n",
    "\n",
    "\n",
    "api_key = os.getenv(\"AZURE_OPENAI_API_KEY\")\n",
    "api_base = os.getenv(\"AZURE_OPENAI_ENDPOINT\")\n",
    "deployment_name = 'gpt-4.1-mini'\n",
    "\n",
    "\n",
    "print(\"API Key:\", api_key)\n",
    "print(\"API Base:\", api_base)\n",
    "print(\"Deployment Name:\", deployment_name)\n",
    "\n",
    "\n",
    "if not api_key:\n",
    "    raise ValueError(\"AZURE_OPENAI_API_KEY environment variable is not set.\")\n",
    "if not api_base:\n",
    "    raise ValueError(\"AZURE_OPENAI_ENDPOINT environment variable is not set.\")\n",
    "if not deployment_name:\n",
    "    raise ValueError(\"AZURE_OPENAI_DEPLOYMENT environment variable is not set.\")\n",
    "\n",
    "\n",
    "lm = dspy.LM(\n",
    "    model=f\"azure/{deployment_name}\",\n",
    "    api_key=api_key,\n",
    "    api_base=api_base,\n",
    "    api_version=\"2023-03-15-preview\" \n",
    ")\n",
    "\n",
    "dspy.configure(lm=lm)\n",
    "\n",
    "\n",
    "\n",
    "long_text = \"\"\"\n",
    "This is a sample long text that will be converted into Obsidian markdown format.\n",
    "It should include links to existing notes where relevant.\n",
    "\"\"\"\n",
    "note_name = \"sample_obsidian_note\"\n",
    "\n",
    "\n",
    "note_generator = NoteGenerator()\n",
    "response = note_generator(context=long_text, note_list=get_notes_list())\n",
    "obsidian_note = response.obs_note\n",
    "print(f\"Response: {response}\")\n",
    "\n",
    "\n",
    "\n",
    "\n",
    "\n",
    "\n"
   ]
  },
  {
   "cell_type": "code",
   "execution_count": 2,
   "metadata": {},
   "outputs": [
    {
     "data": {
      "text/plain": [
       "'# Sample Long Text Conversion to Obsidian Markdown\\n\\nThis note demonstrates how to convert a long text into Obsidian markdown format, including links to existing notes where relevant.\\n\\n## Overview\\n\\nWhen converting text into Obsidian markdown, it is important to:\\n\\n- Use markdown syntax for headings, lists, and formatting.\\n- Link to existing notes using double brackets `[[ ]]` to create easy navigation.\\n\\n## Example Links to Existing Notes\\n\\nHere are some examples of linking to existing notes in this vault:\\n\\n- For database-related information, see [[SQLite for Note Data]] and [[History_of_SQL]].\\n- For machine learning topics, refer to [[Reinforcement Learning]] and [[Rich_Sutton]].\\n- For general notes, you might check [[Welcome]] or [[Hello World]].\\n\\n## Benefits of Linking Notes\\n\\nLinking notes helps create a network of knowledge, making it easier to find related information and build connections between concepts.\\n\\n---\\n\\nThis sample text can be expanded or adapted depending on the content you want to convert into Obsidian markdown.'"
      ]
     },
     "execution_count": 2,
     "metadata": {},
     "output_type": "execute_result"
    }
   ],
   "source": [
    "response.obs_note"
   ]
  },
  {
   "cell_type": "code",
   "execution_count": null,
   "metadata": {},
   "outputs": [],
   "source": [
    "# Save the generated note to the vault\n",
    "create_note(note_name, obsidian_note)\n",
    "print(f\"Note '{note_name}' created successfully in the vault.\")"
   ]
  },
  {
   "cell_type": "code",
   "execution_count": 6,
   "metadata": {},
   "outputs": [
    {
     "name": "stdout",
     "output_type": "stream",
     "text": [
      "From Wikipedia, the free encyclopedia Canadian computer scientist (born 1957/58) Richard S. Sutton FRS FRSC Sutton in 2021 Born 1957 or 1958 (age 67–68) Ohio , U.S. Citizenship Canadian Education Stanford University ( BA ) University of Massachusetts, Amherst ( MS , PhD ) Known for Temporal difference learning , Dyna, Options, GQ(λ) Awards AAAI Fellow (2001) President's Award (INNS) (2003) Royal Society of Canada Fellow (2016) Turing Award (2025) Scientific career Fields Artificial intelligence Reinforcement learning Institutions University of Alberta Thesis Temporal credit assignment in reinforcement learning (1984) Doctoral advisor Andrew Barto Doctoral students David Silver Doina Precup Website incompleteideas .net Richard Stuart Sutton [ 1 ] FRS FRSC (born 1957 or 1958) is a Canadian computer scientist . He is a professor of computing science at the University of Alberta , fellow & Chief Scientific Advisor at the Alberta Machine Intelligence Institute , and a research scientist at Keen Technologies. [ 2 ] Sutton is considered one of the founders of modern computational reinforcement learning , [ 3 ] having several significant contributions to the field, including temporal difference learning and policy gradient methods . [ 4 ] Life and education [ edit ] Richard Sutton was born in either 1957 or 1958 [ 5 ] [ 6 ] in Ohio , and grew up in Oak Brook, Illinois , a suburb of Chicago, United States. [ 7 ] Sutton received his B.A. in psychology from Stanford University in 1978 before taking an MS (1980) and PhD (1984) in computer science from the University of Massachusetts Amherst under the supervision of Andrew Barto . His doctoral dissertation, Temporal Credit Assignment in Reinforcement Learning , introduced actor-critic architectures and temporal credit assignment . [ 8 ] [ 4 ] He was influenced by Harry Klopf 's work in the 1970s, which proposed that supervised learning is insufficient for AI or explaining intelligent behavior, and trial-and-error learning, driven by \"hedonic aspects of behavior\", is necessary. This focused his interest to reinforcement learning. [ 9 ] Sutton interviewed by Steve Jurvetson on AlphaGo in 2017 Career [ edit ] In 1984, Sutton was a postdoctoral researcher at the University of Massachusetts. [ 10 ] From 1985 to 1994, he was a principal member of technical staff in the Computer and Intelligent Systems Laboratory at GTE in Waltham, Massachusetts . [ 4 ] After that, he spent three years at the University of Massachusetts Amherst as a senior research scientist. [ 4 ] From 1998 to 2002, Sutton worked at the AT&T Shannon Laboratory in Florham Park, New Jersey as principal technical staff member in the artificial intelligence department. [ 4 ] Since 2003, he has been a professor of computing science at the University of Alberta . He led the institution's Reinforcement Learning and Artificial Intelligence Laboratory until 2018. [ 11 ] [ 4 ] While retaining his professorship, Sutton joined Deepmind in June 2017 as a distinguished research scientist and co-founder of its Edmonton office. [ 8 ] [ 12 ] [ 13 ] A former American, Sutton became a Canadian citizen in 2015. [ 13 ] Reinforcement learning [ edit ] Sutton joined Andrew Barto in the early 1980s at UMass, trying to explore the behavior of neurons in the human brain as the basis for human intelligence, a concept that had been advanced by computer scientist A. Harry Klopf . Sutton and Barto used mathematics toward furthering the concept and using it as the basis for artificial intelligence. This concept became known as reinforcement learning and went on to becoming a key part of artificial intelligence techniques. [ 14 ] Barto and Sutton used Markov decision processes (MDP) as the mathematical foundation to explain how agents (algorithmic entities) made decisions when in a stochastic or random environment, receiving rewards at the end of every action. Traditional MDP theory assumed the agents knew all information about the MDPs in their attempt toward maximizing their cumulative rewards. Barto and Sutton's reinforcement learning techniques allowed for both the environment and the rewards to be unknown, and thus allowed for these category of algorithms to be applied to a wide array of problems. [ 15 ] Sutton returned to Canada in the 2000s and continued working on the topic which continued to develop in academic circles until one of its first major real world applications saw Google's AlphaGo program built on this concept defeating the then prevailing human champion. [ 14 ] Barto and Sutton have widely been credited and accepted as pioneers of modern reinforcement learning, with the technique itself being foundational to the modern AI boom. [ 16 ] In a 2019 essay, Sutton criticized the field of AI research for failing \"to learn the bitter lesson that building in how we think we think does not work in the long run\", arguing that \"70 years of AI research [had shown] that general methods that leverage computation are ultimately the most effective, and by a large margin\", beating efforts building on human knowledge about specific fields like computer vision, speech recognition, chess or Go. [ 17 ] [ 18 ] Sutton and John Carmack announced a partnership for the development of AGI in 2023. [ 2 ] Awards and honors [ edit ] Sutton is a fellow of the Association for the Advancement of Artificial Intelligence (AAAI) since 2001; [ 19 ] his nomination read: \"For significant contributions to many topics in machine learning, including reinforcement learning, temporal difference techniques, and neural networks.\" [ 19 ] In 2003, he received the President's Award from the International Neural Network Society [ 20 ] and in 2013, the Outstanding Achievement in Research award from the University of Massachusetts Amherst . [ 21 ] In 2025, he received the Turing Award from the Association for Computing Machinery together with Andrew Barto ; the citation of the award read: \"For developing the conceptual and algorithmic foundations of reinforcement learning.\" [ 22 ] [ 23 ] In 2016, Sutton was elected Fellow of the Royal Society of Canada . [ 24 ] In 2021, he was elected Fellow of the Royal Society of London . [ 25 ] Selected publications [ edit ] Sutton, R. S., Barto, A. G., Reinforcement Learning: An Introduction . MIT Press, 1998. Also translated into Japanese and Russian. Second edition MIT Press 2018. Sutton, R. S. (Ed.), Reinforcement Learning. Reprinting of a special issue of Machine Learning Journal. Kluwer Academic Press, 1992 Miller, W. T., Sutton, R. S., Werbos, P. J. (Eds.), Neural Networks for Control . MIT Press, 1991. References [ edit ] ^ \"Temporal credit assignment in reinforcement learning - ProQuest\" . www.proquest.com . ^ a b \"John Carmack and Rich Sutton partner to accelerate development of Artificial General Intelligence\" . markets.businessinsider.com . Retrieved October 2, 2023 . ^ \"Exclusive: Interview with Rich Sutton, the Father of Reinforcement Learning\" . January 11, 2018. Archived from the original on January 11, 2018 . Retrieved December 17, 2018 . ^ a b c d e f Piatetsky, Gregory (December 5, 2017). \"Exclusive: Interview with Rich Sutton, the Father of Reinforcement Learning\" . KDnuggets . Retrieved February 10, 2024 . ^ \"Andrew Barto and Richard Sutton, pioneers in field of reinforcement learning, win AM Turing Award\" . The Telegraph . March 5, 2025 . Retrieved March 10, 2025 . Research that Barto, 76, and Sutton, 67, began in the late 1970s paved the way for some of the past decade's AI breakthroughs. ^ \"Rich Sutton, A.M. Turing Award Winner: Understanding Intelligence\" . Amii . March 5, 2025 . Retrieved March 10, 2025 . So I'm 67 years old, but I want to still try to do some amazing things. ^ Heidrich-Meisner, Verena (2009). \"Interview with Richard S. Sutton\" (PDF) . Künstliche intelligenz, Heft . ^ a b \"Brief Biography for Richard Sutton\" . incompleteideas.net . Retrieved December 17, 2018 . ^ Sutton, Richard S.; Barto, Andrew (2020). Reinforcement learning: an introduction (Second ed.). Cambridge, Massachusetts: The MIT Press. pp. 22– 23. ISBN 978-0-262-03924-6 . ^ \"Dr. Richard Sutton\" . awards.acm.org . Retrieved March 7, 2025 . ^ Brown, Michael (May 10, 2021). \"AI innovator Richard Sutton named to Royal Society\" . Alberta Machine Intelligence Institute . Retrieved February 10, 2024 . ^ \"DeepMind expands to Canada with new research office in Edmonton, Alberta\" . DeepMind . Retrieved December 17, 2018 . ^ a b \"Edmonton AI guru Rich Sutton has lost his DeepMind but not his ambition\" . National Post . March 19, 2023 . Retrieved July 2, 2023 . ^ a b Metz, Cade (March 5, 2025). \"Turing Award Goes to 2 Pioneers of Artificial Intelligence\" . The New York Times . ISSN 0362-4331 . Retrieved March 8, 2025 . ^ \"A.M. Turing Award\" . amturing.acm.org . Retrieved March 8, 2025 . ^ \"AI pioneers Andrew Barto and Richard Sutton win 2025 Turing Award for groundbreaking contributions to reinforcement learning | NSF – National Science Foundation\" . www.nsf.gov . March 5, 2025 . Retrieved March 8, 2025 . ^ Sutton, Rich (March 13, 2019). \"The Bitter Lesson\" . www.incompleteideas.net . Retrieved September 22, 2022 . ^ Tunstall, Lewis; Werra, Leandro von; Wolf, Thomas (January 26, 2022). Natural Language Processing with Transformers . \"O'Reilly Media, Inc.\". ISBN 978-1-0981-0319-4 . ^ a b \"Elected AAAI Fellows\" . www.aaai.org . Retrieved December 17, 2018 . ^ \"INNS Award Recipients\" . www.inns.org . Retrieved December 17, 2018 . ^ \"Outstanding Achievement and Advocacy Award Recipients\" . College of Information and Computer Sciences, University of Massachusetts Amherst . October 5, 2010 . Retrieved December 17, 2018 . ^ Cade Metz: Turing Award Goes to 2 Pioneers of Artificial Intelligence. In: NYT March 4, 2025. Retrieved March 5, 2025 ^ \"Turing Awardees – Directorate for Computer and Information Science and Engineering (CISE) | NSF – National Science Foundation\" . www.nsf.gov . March 5, 2025 . Retrieved March 8, 2025 . ^ Brown, Michael (September 19, 2016). \"U of A Scholars Join Ranks of Royal Society\" . The Quad . Retrieved August 24, 2023 . ^ \"Royal Society elects outstanding new Fellows and Foreign Members\" . royalsociety.org . Retrieved June 8, 2021 . External links [ edit ] Richard Sutton's Homepage Richard S. Sutton publications indexed by Google Scholar v t e A. M. Turing Award laureates Alan Perlis (1966) Maurice Wilkes (1967) Richard Hamming (1968) Marvin Minsky (1969) James H. Wilkinson (1970) John McCarthy (1971) Edsger W. Dijkstra (1972) Charles Bachman (1973) Donald Knuth (1974) Allen Newell / Herbert A. Simon (1975) Michael O. Rabin / Dana Scott (1976) John Backus (1977) Robert W. Floyd (1978) Kenneth E. Iverson (1979) Tony Hoare (1980) Edgar F. Codd (1981) Stephen Cook (1982) Dennis Ritchie / Ken Thompson (1983) Niklaus Wirth (1984) Richard Karp (1985) John Hopcroft / Robert Tarjan (1986) John Cocke (1987) Ivan Sutherland (1988) William Kahan (1989) Fernando J. Corbató (1990) Robin Milner (1991) Butler Lampson (1992) Juris Hartmanis / Richard E. Stearns (1993) Edward Feigenbaum / Raj Reddy (1994) Manuel Blum (1995) Amir Pnueli (1996) Douglas Engelbart (1997) Jim Gray (1998) Fred Brooks (1999) Andrew Yao (2000) Ole-Johan Dahl / Kristen Nygaard (2001) Leonard Adleman / Ron Rivest / Adi Shamir (2002) Alan Kay (2003) Vint Cerf / Bob Kahn (2004) Peter Naur (2005) Frances Allen (2006) Edmund M. Clarke / E. Allen Emerson / Joseph Sifakis (2007) Barbara Liskov (2008) Charles P. Thacker (2009) Leslie Valiant (2010) Judea Pearl (2011) Shafi Goldwasser / Silvio Micali (2012) Leslie Lamport (2013) Michael Stonebraker (2014) Whitfield Diffie / Martin Hellman (2015) Tim Berners-Lee (2016) John L. Hennessy / David Patterson (2017) Yoshua Bengio / Geoffrey Hinton / Yann LeCun (2018) Ed Catmull / Pat Hanrahan (2019) Alfred Aho / Jeffrey Ullman (2020) Jack Dongarra (2021) Robert Metcalfe (2022) Avi Wigderson (2023) Andrew Barto / Richard S. Sutton (2024) Authority control databases International ISNI VIAF WorldCat National Germany United States France BnF data Japan Czech Republic Netherlands Norway Israel Academics CiNii ORCID Mathematics Genealogy Project Association for Computing Machinery zbMATH Google Scholar DBLP MathSciNet Other IdRef Retrieved from \" https://en.wikipedia.org/w/index.php?title=Richard_S._Sutton&oldid=1294685900 \" Categories : Living people Canadian computer scientists Academic staff of the University of Alberta Fellows of the Association for the Advancement of Artificial Intelligence Stanford University alumni University of Massachusetts Amherst alumni Canadian artificial intelligence researchers Canadian fellows of the Royal Society DeepMind people 1950s births Fellows of the Royal Society of Canada Turing Award laureates AT&T people Artificial intelligence people Machine learning researchers Hidden categories: Articles with short description Short description is different from Wikidata Use mdy dates from March 2025 Pages using Template:Post-nominals with missing parameters Articles with hCards Year of birth missing (living people)\n"
     ]
    }
   ],
   "source": [
    "import requests\n",
    "from bs4 import BeautifulSoup\n",
    "\n",
    "url = \"https://en.wikipedia.org/wiki/Richard_S._Sutton\"\n",
    "response = requests.get(url)\n",
    "html_content = response.text\n",
    "\n",
    "soup = BeautifulSoup(html_content, 'html.parser')\n",
    "\n",
    "# Extract the main text content from the page\n",
    "main_content = soup.find('div', {'id': 'bodyContent'}).get_text(separator=' ', strip=True)\n",
    "\n",
    "print(main_content)"
   ]
  },
  {
   "cell_type": "code",
   "execution_count": 8,
   "metadata": {},
   "outputs": [
    {
     "name": "stdout",
     "output_type": "stream",
     "text": [
      "Error processing URL http://incompleteideas.net/papers/sutton-88-with-erratum.pdf: 'NoneType' object has no attribute 'get_text'\n",
      "Error processing URL http://www.incompleteideas.net/IncIdeas/BitterLesson.html: 'NoneType' object has no attribute 'get_text'\n",
      "['From Wikipedia, the free encyclopedia Canadian computer scientist (born 1957/58) Richard S. Sutton FRS FRSC Sutton in 2021 Born 1957 or 1958 (age\\xa067–68) Ohio , U.S. Citizenship Canadian Education Stanford University ( BA ) University of Massachusetts, Amherst ( MS , PhD ) Known\\xa0for Temporal difference learning , Dyna, Options, GQ(λ) Awards AAAI Fellow (2001) President\\'s Award (INNS) (2003) Royal Society of Canada Fellow (2016) Turing Award (2025) Scientific career Fields Artificial intelligence Reinforcement learning Institutions University of Alberta Thesis Temporal credit assignment in reinforcement learning (1984) Doctoral advisor Andrew Barto Doctoral students David Silver Doina Precup Website incompleteideas .net Richard Stuart Sutton [ 1 ] FRS FRSC (born 1957 or 1958) is a Canadian computer scientist . He is a professor of computing science at the University of Alberta , fellow & Chief Scientific Advisor at the Alberta Machine Intelligence Institute , and a research scientist at Keen Technologies. [ 2 ] Sutton is considered one of the founders of modern computational reinforcement learning , [ 3 ] having several significant contributions to the field, including temporal difference learning and policy gradient methods . [ 4 ] Life and education [ edit ] Richard Sutton was born in either 1957 or 1958 [ 5 ] [ 6 ] in Ohio , and grew up in Oak Brook, Illinois , a suburb of Chicago, United States. [ 7 ] Sutton received his B.A. in psychology from Stanford University in 1978 before taking an MS (1980) and PhD (1984) in computer science from the University of Massachusetts Amherst under the supervision of Andrew Barto . His doctoral dissertation, Temporal Credit Assignment in Reinforcement Learning , introduced actor-critic architectures and temporal credit assignment . [ 8 ] [ 4 ] He was influenced by Harry Klopf \\'s work in the 1970s, which proposed that supervised learning is insufficient for AI or explaining intelligent behavior, and trial-and-error learning, driven by \"hedonic aspects of behavior\", is necessary. This focused his interest to reinforcement learning. [ 9 ] Sutton interviewed by Steve Jurvetson on AlphaGo in 2017 Career [ edit ] In 1984, Sutton was a postdoctoral researcher at the University of Massachusetts. [ 10 ] From 1985 to 1994, he was a principal member of technical staff in the Computer and Intelligent Systems Laboratory at GTE in Waltham, Massachusetts . [ 4 ] After that, he spent three years at the University of Massachusetts Amherst as a senior research scientist. [ 4 ] From 1998 to 2002, Sutton worked at the AT&T Shannon Laboratory in Florham Park, New Jersey as principal technical staff member in the artificial intelligence department. [ 4 ] Since 2003, he has been a professor of computing science at the University of Alberta . He led the institution\\'s Reinforcement Learning and Artificial Intelligence Laboratory until 2018. [ 11 ] [ 4 ] While retaining his professorship, Sutton joined Deepmind in June 2017 as a distinguished research scientist and co-founder of its Edmonton office. [ 8 ] [ 12 ] [ 13 ] A former American, Sutton became a Canadian citizen in 2015. [ 13 ] Reinforcement learning [ edit ] Sutton joined Andrew Barto in the early 1980s at UMass, trying to explore the behavior of neurons in the human brain as the basis for human intelligence, a concept that had been advanced by computer scientist A. Harry Klopf . Sutton and Barto used mathematics toward furthering the concept and using it as the basis for artificial intelligence. This concept became known as reinforcement learning and went on to becoming a key part of artificial intelligence techniques. [ 14 ] Barto and Sutton used Markov decision processes (MDP) as the mathematical foundation to explain how agents (algorithmic entities) made decisions when in a stochastic or random environment, receiving rewards at the end of every action. Traditional MDP theory assumed the agents knew all information about the MDPs in their attempt toward maximizing their cumulative rewards. Barto and Sutton\\'s reinforcement learning techniques allowed for both the environment and the rewards to be unknown, and thus allowed for these category of algorithms to be applied to a wide array of problems. [ 15 ] Sutton returned to Canada in the 2000s and continued working on the topic which continued to develop in academic circles until one of its first major real world applications saw Google\\'s AlphaGo program built on this concept defeating the then prevailing human champion. [ 14 ] Barto and Sutton have widely been credited and accepted as pioneers of modern reinforcement learning, with the technique itself being foundational to the modern AI boom. [ 16 ] In a 2019 essay, Sutton criticized the field of AI research for failing \"to learn the bitter lesson that building in how we think we think does not work in the long run\", arguing that \"70 years of AI research [had shown] that general methods that leverage computation are ultimately the most effective, and by a large margin\", beating efforts building on human knowledge about specific fields like computer vision, speech recognition, chess or Go. [ 17 ] [ 18 ] Sutton and John Carmack announced a partnership for the development of AGI in 2023. [ 2 ] Awards and honors [ edit ] Sutton is a fellow of the Association for the Advancement of Artificial Intelligence (AAAI) since 2001; [ 19 ] his nomination read: \"For significant contributions to many topics in machine learning, including reinforcement learning, temporal difference techniques, and neural networks.\" [ 19 ] In 2003, he received the President\\'s Award from the International Neural Network Society [ 20 ] and in 2013, the Outstanding Achievement in Research award from the University of Massachusetts Amherst . [ 21 ] In 2025, he received the Turing Award from the Association for Computing Machinery together with Andrew Barto ; the citation of the award read: \"For developing the conceptual and algorithmic foundations of reinforcement learning.\" [ 22 ] [ 23 ] In 2016, Sutton was elected Fellow of the Royal Society of Canada . [ 24 ] In 2021, he was elected Fellow of the Royal Society of London . [ 25 ] Selected publications [ edit ] Sutton, R. S., Barto, A. G., Reinforcement Learning: An Introduction . MIT Press, 1998. Also translated into Japanese and Russian. Second edition MIT Press 2018. Sutton, R. S. (Ed.), Reinforcement Learning. Reprinting of a special issue of Machine Learning Journal. Kluwer Academic Press, 1992 Miller, W. T., Sutton, R. S., Werbos, P. J. (Eds.), Neural Networks for Control . MIT Press, 1991. References [ edit ] ^ \"Temporal credit assignment in reinforcement learning - ProQuest\" . www.proquest.com . ^ a b \"John Carmack and Rich Sutton partner to accelerate development of Artificial General Intelligence\" . markets.businessinsider.com . Retrieved October 2, 2023 . ^ \"Exclusive: Interview with Rich Sutton, the Father of Reinforcement Learning\" . January 11, 2018. Archived from the original on January 11, 2018 . Retrieved December 17, 2018 . ^ a b c d e f Piatetsky, Gregory (December 5, 2017). \"Exclusive: Interview with Rich Sutton, the Father of Reinforcement Learning\" . KDnuggets . Retrieved February 10, 2024 . ^ \"Andrew Barto and Richard Sutton, pioneers in field of reinforcement learning, win AM Turing Award\" . The Telegraph . March 5, 2025 . Retrieved March 10, 2025 . Research that Barto, 76, and Sutton, 67, began in the late 1970s paved the way for some of the past decade\\'s AI breakthroughs. ^ \"Rich Sutton, A.M. Turing Award Winner: Understanding Intelligence\" . Amii . March 5, 2025 . Retrieved March 10, 2025 . So I\\'m 67 years old, but I want to still try to do some amazing things. ^ Heidrich-Meisner, Verena (2009). \"Interview with Richard S. Sutton\" (PDF) . Künstliche intelligenz, Heft . ^ a b \"Brief Biography for Richard Sutton\" . incompleteideas.net . Retrieved December 17, 2018 . ^ Sutton, Richard S.; Barto, Andrew (2020). Reinforcement learning: an introduction (Second\\xa0ed.). Cambridge, Massachusetts: The MIT Press. pp. 22– 23. ISBN 978-0-262-03924-6 . ^ \"Dr. Richard Sutton\" . awards.acm.org . Retrieved March 7, 2025 . ^ Brown, Michael (May 10, 2021). \"AI innovator Richard Sutton named to Royal Society\" . Alberta Machine Intelligence Institute . Retrieved February 10, 2024 . ^ \"DeepMind expands to Canada with new research office in Edmonton, Alberta\" . DeepMind . Retrieved December 17, 2018 . ^ a b \"Edmonton AI guru Rich Sutton has lost his DeepMind but not his ambition\" . National Post . March 19, 2023 . Retrieved July 2, 2023 . ^ a b Metz, Cade (March 5, 2025). \"Turing Award Goes to 2 Pioneers of Artificial Intelligence\" . The New York Times . ISSN 0362-4331 . Retrieved March 8, 2025 . ^ \"A.M. Turing Award\" . amturing.acm.org . Retrieved March 8, 2025 . ^ \"AI pioneers Andrew Barto and Richard Sutton win 2025 Turing Award for groundbreaking contributions to reinforcement learning | NSF – National Science Foundation\" . www.nsf.gov . March 5, 2025 . Retrieved March 8, 2025 . ^ Sutton, Rich (March 13, 2019). \"The Bitter Lesson\" . www.incompleteideas.net . Retrieved September 22, 2022 . ^ Tunstall, Lewis; Werra, Leandro von; Wolf, Thomas (January 26, 2022). Natural Language Processing with Transformers . \"O\\'Reilly Media, Inc.\". ISBN 978-1-0981-0319-4 . ^ a b \"Elected AAAI Fellows\" . www.aaai.org . Retrieved December 17, 2018 . ^ \"INNS Award Recipients\" . www.inns.org . Retrieved December 17, 2018 . ^ \"Outstanding Achievement and Advocacy Award Recipients\" . College of Information and Computer Sciences, University of Massachusetts Amherst . October 5, 2010 . Retrieved December 17, 2018 . ^ Cade Metz: Turing Award Goes to 2 Pioneers of Artificial Intelligence. In: NYT March 4, 2025. Retrieved March 5, 2025 ^ \"Turing Awardees – Directorate for Computer and Information Science and Engineering (CISE) | NSF – National Science Foundation\" . www.nsf.gov . March 5, 2025 . Retrieved March 8, 2025 . ^ Brown, Michael (September 19, 2016). \"U of A Scholars Join Ranks of Royal Society\" . The Quad . Retrieved August 24, 2023 . ^ \"Royal Society elects outstanding new Fellows and Foreign Members\" . royalsociety.org . Retrieved June 8, 2021 . External links [ edit ] Richard Sutton\\'s Homepage Richard S. Sutton publications indexed by Google Scholar v t e A. M. Turing Award laureates Alan Perlis (1966) Maurice Wilkes (1967) Richard Hamming (1968) Marvin Minsky (1969) James H. Wilkinson (1970) John McCarthy (1971) Edsger W. Dijkstra (1972) Charles Bachman (1973) Donald Knuth (1974) Allen Newell / Herbert A. Simon (1975) Michael O. Rabin / Dana Scott (1976) John Backus (1977) Robert W. Floyd (1978) Kenneth E. Iverson (1979) Tony Hoare (1980) Edgar F. Codd (1981) Stephen Cook (1982) Dennis Ritchie / Ken Thompson (1983) Niklaus Wirth (1984) Richard Karp (1985) John Hopcroft / Robert Tarjan (1986) John Cocke (1987) Ivan Sutherland (1988) William Kahan (1989) Fernando J. Corbató (1990) Robin Milner (1991) Butler Lampson (1992) Juris Hartmanis / Richard E. Stearns (1993) Edward Feigenbaum / Raj Reddy (1994) Manuel Blum (1995) Amir Pnueli (1996) Douglas Engelbart (1997) Jim Gray (1998) Fred Brooks (1999) Andrew Yao (2000) Ole-Johan Dahl / Kristen Nygaard (2001) Leonard Adleman / Ron Rivest / Adi Shamir (2002) Alan Kay (2003) Vint Cerf / Bob Kahn (2004) Peter Naur (2005) Frances Allen (2006) Edmund M. Clarke / E. Allen Emerson / Joseph Sifakis (2007) Barbara Liskov (2008) Charles P. Thacker (2009) Leslie Valiant (2010) Judea Pearl (2011) Shafi Goldwasser / Silvio Micali (2012) Leslie Lamport (2013) Michael Stonebraker (2014) Whitfield Diffie / Martin Hellman (2015) Tim Berners-Lee (2016) John L. Hennessy / David Patterson (2017) Yoshua Bengio / Geoffrey Hinton / Yann LeCun (2018) Ed Catmull / Pat Hanrahan (2019) Alfred Aho / Jeffrey Ullman (2020) Jack Dongarra (2021) Robert Metcalfe (2022) Avi Wigderson (2023) Andrew Barto / Richard S. Sutton (2024) Authority control databases International ISNI VIAF WorldCat National Germany United States France BnF data Japan Czech Republic Netherlands Norway Israel Academics CiNii ORCID Mathematics Genealogy Project Association for Computing Machinery zbMATH Google Scholar DBLP MathSciNet Other IdRef Retrieved from \" https://en.wikipedia.org/w/index.php?title=Richard_S._Sutton&oldid=1294685900 \" Categories : Living people Canadian computer scientists Academic staff of the University of Alberta Fellows of the Association for the Advancement of Artificial Intelligence Stanford University alumni University of Massachusetts Amherst alumni Canadian artificial intelligence researchers Canadian fellows of the Royal Society DeepMind people 1950s births Fellows of the Royal Society of Canada Turing Award laureates AT&T people Artificial intelligence people Machine learning researchers Hidden categories: Articles with short description Short description is different from Wikidata Use mdy dates from March 2025 Pages using Template:Post-nominals with missing parameters Articles with hCards Year of birth missing (living people)', '', '']\n"
     ]
    }
   ],
   "source": []
  },
  {
   "cell_type": "code",
   "execution_count": 9,
   "metadata": {},
   "outputs": [
    {
     "name": "stdout",
     "output_type": "stream",
     "text": [
      "From Wikipedia, the free encyclopedia Canadian computer scientist (born 1957/58) Richard S. Sutton FRS FRSC Sutton in 2021 Born 1957 or 1958 (age 67–68) Ohio , U.S. Citizenship Canadian Education Stanford University ( BA ) University of Massachusetts, Amherst ( MS , PhD ) Known for Temporal difference learning , Dyna, Options, GQ(λ) Awards AAAI Fellow (2001) President's Award (INNS) (2003) Royal Society of Canada Fellow (2016) Turing Award (2025) Scientific career Fields Artificial intelligence Reinforcement learning Institutions University of Alberta Thesis Temporal credit assignment in reinforcement learning (1984) Doctoral advisor Andrew Barto Doctoral students David Silver Doina Precup Website incompleteideas .net Richard Stuart Sutton [ 1 ] FRS FRSC (born 1957 or 1958) is a Canadian computer scientist . He is a professor of computing science at the University of Alberta , fellow & Chief Scientific Advisor at the Alberta Machine Intelligence Institute , and a research scientist at Keen Technologies. [ 2 ] Sutton is considered one of the founders of modern computational reinforcement learning , [ 3 ] having several significant contributions to the field, including temporal difference learning and policy gradient methods . [ 4 ] Life and education [ edit ] Richard Sutton was born in either 1957 or 1958 [ 5 ] [ 6 ] in Ohio , and grew up in Oak Brook, Illinois , a suburb of Chicago, United States. [ 7 ] Sutton received his B.A. in psychology from Stanford University in 1978 before taking an MS (1980) and PhD (1984) in computer science from the University of Massachusetts Amherst under the supervision of Andrew Barto . His doctoral dissertation, Temporal Credit Assignment in Reinforcement Learning , introduced actor-critic architectures and temporal credit assignment . [ 8 ] [ 4 ] He was influenced by Harry Klopf 's work in the 1970s, which proposed that supervised learning is insufficient for AI or explaining intelligent behavior, and trial-and-error learning, driven by \"hedonic aspects of behavior\", is necessary. This focused his interest to reinforcement learning. [ 9 ] Sutton interviewed by Steve Jurvetson on AlphaGo in 2017 Career [ edit ] In 1984, Sutton was a postdoctoral researcher at the University of Massachusetts. [ 10 ] From 1985 to 1994, he was a principal member of technical staff in the Computer and Intelligent Systems Laboratory at GTE in Waltham, Massachusetts . [ 4 ] After that, he spent three years at the University of Massachusetts Amherst as a senior research scientist. [ 4 ] From 1998 to 2002, Sutton worked at the AT&T Shannon Laboratory in Florham Park, New Jersey as principal technical staff member in the artificial intelligence department. [ 4 ] Since 2003, he has been a professor of computing science at the University of Alberta . He led the institution's Reinforcement Learning and Artificial Intelligence Laboratory until 2018. [ 11 ] [ 4 ] While retaining his professorship, Sutton joined Deepmind in June 2017 as a distinguished research scientist and co-founder of its Edmonton office. [ 8 ] [ 12 ] [ 13 ] A former American, Sutton became a Canadian citizen in 2015. [ 13 ] Reinforcement learning [ edit ] Sutton joined Andrew Barto in the early 1980s at UMass, trying to explore the behavior of neurons in the human brain as the basis for human intelligence, a concept that had been advanced by computer scientist A. Harry Klopf . Sutton and Barto used mathematics toward furthering the concept and using it as the basis for artificial intelligence. This concept became known as reinforcement learning and went on to becoming a key part of artificial intelligence techniques. [ 14 ] Barto and Sutton used Markov decision processes (MDP) as the mathematical foundation to explain how agents (algorithmic entities) made decisions when in a stochastic or random environment, receiving rewards at the end of every action. Traditional MDP theory assumed the agents knew all information about the MDPs in their attempt toward maximizing their cumulative rewards. Barto and Sutton's reinforcement learning techniques allowed for both the environment and the rewards to be unknown, and thus allowed for these category of algorithms to be applied to a wide array of problems. [ 15 ] Sutton returned to Canada in the 2000s and continued working on the topic which continued to develop in academic circles until one of its first major real world applications saw Google's AlphaGo program built on this concept defeating the then prevailing human champion. [ 14 ] Barto and Sutton have widely been credited and accepted as pioneers of modern reinforcement learning, with the technique itself being foundational to the modern AI boom. [ 16 ] In a 2019 essay, Sutton criticized the field of AI research for failing \"to learn the bitter lesson that building in how we think we think does not work in the long run\", arguing that \"70 years of AI research [had shown] that general methods that leverage computation are ultimately the most effective, and by a large margin\", beating efforts building on human knowledge about specific fields like computer vision, speech recognition, chess or Go. [ 17 ] [ 18 ] Sutton and John Carmack announced a partnership for the development of AGI in 2023. [ 2 ] Awards and honors [ edit ] Sutton is a fellow of the Association for the Advancement of Artificial Intelligence (AAAI) since 2001; [ 19 ] his nomination read: \"For significant contributions to many topics in machine learning, including reinforcement learning, temporal difference techniques, and neural networks.\" [ 19 ] In 2003, he received the President's Award from the International Neural Network Society [ 20 ] and in 2013, the Outstanding Achievement in Research award from the University of Massachusetts Amherst . [ 21 ] In 2025, he received the Turing Award from the Association for Computing Machinery together with Andrew Barto ; the citation of the award read: \"For developing the conceptual and algorithmic foundations of reinforcement learning.\" [ 22 ] [ 23 ] In 2016, Sutton was elected Fellow of the Royal Society of Canada . [ 24 ] In 2021, he was elected Fellow of the Royal Society of London . [ 25 ] Selected publications [ edit ] Sutton, R. S., Barto, A. G., Reinforcement Learning: An Introduction . MIT Press, 1998. Also translated into Japanese and Russian. Second edition MIT Press 2018. Sutton, R. S. (Ed.), Reinforcement Learning. Reprinting of a special issue of Machine Learning Journal. Kluwer Academic Press, 1992 Miller, W. T., Sutton, R. S., Werbos, P. J. (Eds.), Neural Networks for Control . MIT Press, 1991. References [ edit ] ^ \"Temporal credit assignment in reinforcement learning - ProQuest\" . www.proquest.com . ^ a b \"John Carmack and Rich Sutton partner to accelerate development of Artificial General Intelligence\" . markets.businessinsider.com . Retrieved October 2, 2023 . ^ \"Exclusive: Interview with Rich Sutton, the Father of Reinforcement Learning\" . January 11, 2018. Archived from the original on January 11, 2018 . Retrieved December 17, 2018 . ^ a b c d e f Piatetsky, Gregory (December 5, 2017). \"Exclusive: Interview with Rich Sutton, the Father of Reinforcement Learning\" . KDnuggets . Retrieved February 10, 2024 . ^ \"Andrew Barto and Richard Sutton, pioneers in field of reinforcement learning, win AM Turing Award\" . The Telegraph . March 5, 2025 . Retrieved March 10, 2025 . Research that Barto, 76, and Sutton, 67, began in the late 1970s paved the way for some of the past decade's AI breakthroughs. ^ \"Rich Sutton, A.M. Turing Award Winner: Understanding Intelligence\" . Amii . March 5, 2025 . Retrieved March 10, 2025 . So I'm 67 years old, but I want to still try to do some amazing things. ^ Heidrich-Meisner, Verena (2009). \"Interview with Richard S. Sutton\" (PDF) . Künstliche intelligenz, Heft . ^ a b \"Brief Biography for Richard Sutton\" . incompleteideas.net . Retrieved December 17, 2018 . ^ Sutton, Richard S.; Barto, Andrew (2020). Reinforcement learning: an introduction (Second ed.). Cambridge, Massachusetts: The MIT Press. pp. 22– 23. ISBN 978-0-262-03924-6 . ^ \"Dr. Richard Sutton\" . awards.acm.org . Retrieved March 7, 2025 . ^ Brown, Michael (May 10, 2021). \"AI innovator Richard Sutton named to Royal Society\" . Alberta Machine Intelligence Institute . Retrieved February 10, 2024 . ^ \"DeepMind expands to Canada with new research office in Edmonton, Alberta\" . DeepMind . Retrieved December 17, 2018 . ^ a b \"Edmonton AI guru Rich Sutton has lost his DeepMind but not his ambition\" . National Post . March 19, 2023 . Retrieved July 2, 2023 . ^ a b Metz, Cade (March 5, 2025). \"Turing Award Goes to 2 Pioneers of Artificial Intelligence\" . The New York Times . ISSN 0362-4331 . Retrieved March 8, 2025 . ^ \"A.M. Turing Award\" . amturing.acm.org . Retrieved March 8, 2025 . ^ \"AI pioneers Andrew Barto and Richard Sutton win 2025 Turing Award for groundbreaking contributions to reinforcement learning | NSF – National Science Foundation\" . www.nsf.gov . March 5, 2025 . Retrieved March 8, 2025 . ^ Sutton, Rich (March 13, 2019). \"The Bitter Lesson\" . www.incompleteideas.net . Retrieved September 22, 2022 . ^ Tunstall, Lewis; Werra, Leandro von; Wolf, Thomas (January 26, 2022). Natural Language Processing with Transformers . \"O'Reilly Media, Inc.\". ISBN 978-1-0981-0319-4 . ^ a b \"Elected AAAI Fellows\" . www.aaai.org . Retrieved December 17, 2018 . ^ \"INNS Award Recipients\" . www.inns.org . Retrieved December 17, 2018 . ^ \"Outstanding Achievement and Advocacy Award Recipients\" . College of Information and Computer Sciences, University of Massachusetts Amherst . October 5, 2010 . Retrieved December 17, 2018 . ^ Cade Metz: Turing Award Goes to 2 Pioneers of Artificial Intelligence. In: NYT March 4, 2025. Retrieved March 5, 2025 ^ \"Turing Awardees – Directorate for Computer and Information Science and Engineering (CISE) | NSF – National Science Foundation\" . www.nsf.gov . March 5, 2025 . Retrieved March 8, 2025 . ^ Brown, Michael (September 19, 2016). \"U of A Scholars Join Ranks of Royal Society\" . The Quad . Retrieved August 24, 2023 . ^ \"Royal Society elects outstanding new Fellows and Foreign Members\" . royalsociety.org . Retrieved June 8, 2021 . External links [ edit ] Richard Sutton's Homepage Richard S. Sutton publications indexed by Google Scholar v t e A. M. Turing Award laureates Alan Perlis (1966) Maurice Wilkes (1967) Richard Hamming (1968) Marvin Minsky (1969) James H. Wilkinson (1970) John McCarthy (1971) Edsger W. Dijkstra (1972) Charles Bachman (1973) Donald Knuth (1974) Allen Newell / Herbert A. Simon (1975) Michael O. Rabin / Dana Scott (1976) John Backus (1977) Robert W. Floyd (1978) Kenneth E. Iverson (1979) Tony Hoare (1980) Edgar F. Codd (1981) Stephen Cook (1982) Dennis Ritchie / Ken Thompson (1983) Niklaus Wirth (1984) Richard Karp (1985) John Hopcroft / Robert Tarjan (1986) John Cocke (1987) Ivan Sutherland (1988) William Kahan (1989) Fernando J. Corbató (1990) Robin Milner (1991) Butler Lampson (1992) Juris Hartmanis / Richard E. Stearns (1993) Edward Feigenbaum / Raj Reddy (1994) Manuel Blum (1995) Amir Pnueli (1996) Douglas Engelbart (1997) Jim Gray (1998) Fred Brooks (1999) Andrew Yao (2000) Ole-Johan Dahl / Kristen Nygaard (2001) Leonard Adleman / Ron Rivest / Adi Shamir (2002) Alan Kay (2003) Vint Cerf / Bob Kahn (2004) Peter Naur (2005) Frances Allen (2006) Edmund M. Clarke / E. Allen Emerson / Joseph Sifakis (2007) Barbara Liskov (2008) Charles P. Thacker (2009) Leslie Valiant (2010) Judea Pearl (2011) Shafi Goldwasser / Silvio Micali (2012) Leslie Lamport (2013) Michael Stonebraker (2014) Whitfield Diffie / Martin Hellman (2015) Tim Berners-Lee (2016) John L. Hennessy / David Patterson (2017) Yoshua Bengio / Geoffrey Hinton / Yann LeCun (2018) Ed Catmull / Pat Hanrahan (2019) Alfred Aho / Jeffrey Ullman (2020) Jack Dongarra (2021) Robert Metcalfe (2022) Avi Wigderson (2023) Andrew Barto / Richard S. Sutton (2024) Authority control databases International ISNI VIAF WorldCat National Germany United States France BnF data Japan Czech Republic Netherlands Norway Israel Academics CiNii ORCID Mathematics Genealogy Project Association for Computing Machinery zbMATH Google Scholar DBLP MathSciNet Other IdRef Retrieved from \" https://en.wikipedia.org/w/index.php?title=Richard_S._Sutton&oldid=1294685900 \" Categories : Living people Canadian computer scientists Academic staff of the University of Alberta Fellows of the Association for the Advancement of Artificial Intelligence Stanford University alumni University of Massachusetts Amherst alumni Canadian artificial intelligence researchers Canadian fellows of the Royal Society DeepMind people 1950s births Fellows of the Royal Society of Canada Turing Award laureates AT&T people Artificial intelligence people Machine learning researchers Hidden categories: Articles with short description Short description is different from Wikidata Use mdy dates from March 2025 Pages using Template:Post-nominals with missing parameters Articles with hCards Year of birth missing (living people)\n",
      "\n",
      "\n"
     ]
    }
   ],
   "source": [
    "for main_content in main_contents:\n",
    "    print(main_content)"
   ]
  },
  {
   "cell_type": "code",
   "execution_count": null,
   "metadata": {},
   "outputs": [],
   "source": []
  }
 ],
 "metadata": {
  "kernelspec": {
   "display_name": ".venv",
   "language": "python",
   "name": "python3"
  },
  "language_info": {
   "codemirror_mode": {
    "name": "ipython",
    "version": 3
   },
   "file_extension": ".py",
   "mimetype": "text/x-python",
   "name": "python",
   "nbconvert_exporter": "python",
   "pygments_lexer": "ipython3",
   "version": "3.12.0"
  }
 },
 "nbformat": 4,
 "nbformat_minor": 2
}
